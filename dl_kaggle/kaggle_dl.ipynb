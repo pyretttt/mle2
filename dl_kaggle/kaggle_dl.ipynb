{
  "nbformat": 4,
  "nbformat_minor": 0,
  "metadata": {
    "colab": {
      "provenance": [],
      "gpuType": "T4"
    },
    "kernelspec": {
      "name": "python3",
      "display_name": "Python 3"
    },
    "language_info": {
      "name": "python"
    },
    "accelerator": "GPU"
  },
  "cells": [
    {
      "cell_type": "code",
      "execution_count": 1,
      "metadata": {
        "id": "USf8knG0jz4A"
      },
      "outputs": [],
      "source": [
        "from collections import defaultdict\n",
        "\n",
        "import pandas as pd\n",
        "import numpy as np\n",
        "import matplotlib.pyplot as plt\n",
        "\n",
        "import tensorflow as tf\n",
        "import keras.utils as utils\n",
        "import keras.optimizers as optim\n",
        "from keras.losses import categorical_crossentropy\n",
        "from keras.models import Sequential\n",
        "from keras.layers import (\n",
        "    Conv2D, MaxPooling2D,\n",
        "    Dense, Flatten,\n",
        "    Dropout, BatchNormalization\n",
        ")\n",
        "from keras.metrics import CategoricalAccuracy\n",
        "\n",
        "from sklearn.model_selection import train_test_split\n",
        "from sklearn.metrics import confusion_matrix, classification_report"
      ]
    },
    {
      "cell_type": "code",
      "source": [
        "!kaggle competitions download -c mds-ufu-dl-test"
      ],
      "metadata": {
        "colab": {
          "base_uri": "https://localhost:8080/"
        },
        "id": "pk1-XTzRj9ny",
        "outputId": "59031d00-594f-41ae-81c5-18aa9cfb1797"
      },
      "execution_count": 2,
      "outputs": [
        {
          "output_type": "stream",
          "name": "stdout",
          "text": [
            "Warning: Your Kaggle API key is readable by other users on this system! To fix this, you can run 'chmod 600 /root/.kaggle/kaggle.json'\n",
            "mds-ufu-dl-test.zip: Skipping, found more recently modified local copy (use --force to force download)\n"
          ]
        }
      ]
    },
    {
      "cell_type": "code",
      "source": [
        "!unzip mds-ufu-dl-test.zip"
      ],
      "metadata": {
        "colab": {
          "base_uri": "https://localhost:8080/"
        },
        "id": "4Dyr3aKWnXVk",
        "outputId": "6d1f213d-5774-40e6-f580-8c04cc662901"
      },
      "execution_count": 13,
      "outputs": [
        {
          "output_type": "stream",
          "name": "stdout",
          "text": [
            "Archive:  mds-ufu-dl-test.zip\n",
            "replace fmnist_test.csv? [y]es, [n]o, [A]ll, [N]one, [r]ename: "
          ]
        }
      ]
    },
    {
      "cell_type": "markdown",
      "source": [
        "## Helpers\n",
        "\n"
      ],
      "metadata": {
        "id": "gLOsO_W_dqYA"
      }
    },
    {
      "cell_type": "code",
      "source": [
        "# Constants\n",
        "BATCH_SIZE = 64\n",
        "IMG_DIMENSION = 28\n",
        "CLASSES = 10\n",
        "LR = 1e-3\n",
        "EPOCHS=10\n",
        "\n",
        "def preprocess_images(images):\n",
        "  n = images.shape[0]\n",
        "  images_reshaped = images.reshape(n, IMG_DIMENSION, IMG_DIMENSION, 1)\n",
        "  images_reshaped /= 255.0\n",
        "\n",
        "  return images_reshaped\n",
        "\n",
        "def target_to_categorical(y):\n",
        "  return utils.to_categorical(y, CLASSES)\n",
        "\n",
        "def validate_model(model, X, y):\n",
        "  metrics = model.evaluate(X, y)\n",
        "  print('Model loss:', metrics[0])\n",
        "  print('Model accuracy:', metrics[1])\n",
        "\n",
        "def plot_train_history(history, fig_size=(8, 6)):\n",
        "  fig, ax = plt.subplots(figsize=fig_size)\n",
        "  ax.plot(history['categorical_accuracy'], label='train')\n",
        "  ax.plot(history['val_categorical_accuracy'], label='test')\n",
        "  ax.set_ylabel('Accuracy')\n",
        "  ax.set_xlabel('Epoch')\n",
        "  ax.legend()\n",
        "\n",
        "  fig.suptitle('History')"
      ],
      "metadata": {
        "id": "4F29xFXhds2C"
      },
      "execution_count": 118,
      "outputs": []
    },
    {
      "cell_type": "markdown",
      "source": [
        "## Загрузим данные"
      ],
      "metadata": {
        "id": "yeAmLalYdwnX"
      }
    },
    {
      "cell_type": "code",
      "source": [
        "train = pd.read_csv(\"fmnist_train.csv\", sep=\",\")\n",
        "test = pd.read_csv(\"fmnist_test.csv\", sep=\",\")\n",
        "submission = pd.read_csv(\"sample_submission.csv\", sep=\",\")"
      ],
      "metadata": {
        "id": "PFS1qI1aoOmI"
      },
      "execution_count": 119,
      "outputs": []
    },
    {
      "cell_type": "code",
      "source": [
        "train_filled = train.fillna(method='ffill')\n",
        "test_filled = test.fillna(method='ffill')"
      ],
      "metadata": {
        "id": "ebyaXJ3WwdO5"
      },
      "execution_count": 120,
      "outputs": []
    },
    {
      "cell_type": "code",
      "source": [
        "train_filled"
      ],
      "metadata": {
        "colab": {
          "base_uri": "https://localhost:8080/",
          "height": 483
        },
        "id": "a_EOPDjzN61X",
        "outputId": "94df6824-ce44-4806-e9a0-2cc3ab704d01"
      },
      "execution_count": 121,
      "outputs": [
        {
          "output_type": "execute_result",
          "data": {
            "text/plain": [
              "       label  pixel1  pixel2  pixel3  pixel4  pixel5  pixel6  pixel7  pixel8  \\\n",
              "0          2       0       0       0       0       0       0       0       0   \n",
              "1          9       0       0       0       0       0       0       0       0   \n",
              "2          6       0       0       0       0       0       0       0       5   \n",
              "3          0       0       0       0       1       2       0       0       0   \n",
              "4          3       0       0       0       0       0       0       0       0   \n",
              "...      ...     ...     ...     ...     ...     ...     ...     ...     ...   \n",
              "17035      4       0       0       0       0       0       0       0       1   \n",
              "17036      4       0       0       0       0       0       0       5       4   \n",
              "17037      4       0       0       0       0       0       0       0       0   \n",
              "17038      6       0       0       0       0       0       0       0       0   \n",
              "17039      5       0       0       0       0       0       0       0       0   \n",
              "\n",
              "       pixel9  ...  pixel776  pixel777  pixel778  pixel779  pixel780  \\\n",
              "0           0  ...       0.0       0.0       0.0       0.0       0.0   \n",
              "1           0  ...       0.0       0.0       0.0       0.0       0.0   \n",
              "2           0  ...       0.0       0.0      30.0      43.0       0.0   \n",
              "3           0  ...       0.0       0.0       0.0       0.0       1.0   \n",
              "4           0  ...       0.0       0.0       0.0       0.0       0.0   \n",
              "...       ...  ...       ...       ...       ...       ...       ...   \n",
              "17035       0  ...     186.0      16.0       0.0       2.0       0.0   \n",
              "17036       3  ...       0.0      33.0      48.0      37.0       3.0   \n",
              "17037       0  ...       0.0       0.0       0.0       0.0       1.0   \n",
              "17038       0  ...       0.0       0.0       0.0       0.0       0.0   \n",
              "17039       0  ...       0.0       0.0       0.0       0.0       0.0   \n",
              "\n",
              "       pixel781  pixel782  pixel783  pixel784     Id  \n",
              "0           0.0       0.0       0.0       0.0      0  \n",
              "1           0.0       0.0       0.0       0.0      1  \n",
              "2           0.0       0.0       0.0       0.0      2  \n",
              "3           0.0       0.0       0.0       0.0      3  \n",
              "4           0.0       0.0       0.0       0.0      4  \n",
              "...         ...       ...       ...       ...    ...  \n",
              "17035       0.0       0.0       0.0       0.0  17035  \n",
              "17036       0.0       0.0       0.0       0.0  17036  \n",
              "17037       0.0       0.0       0.0       0.0  17037  \n",
              "17038       0.0       0.0       0.0       0.0  17038  \n",
              "17039       0.0       0.0       0.0       0.0  17039  \n",
              "\n",
              "[17040 rows x 786 columns]"
            ],
            "text/html": [
              "\n",
              "  <div id=\"df-7a6d3d9b-94be-4e7a-8281-b37dfae7f832\">\n",
              "    <div class=\"colab-df-container\">\n",
              "      <div>\n",
              "<style scoped>\n",
              "    .dataframe tbody tr th:only-of-type {\n",
              "        vertical-align: middle;\n",
              "    }\n",
              "\n",
              "    .dataframe tbody tr th {\n",
              "        vertical-align: top;\n",
              "    }\n",
              "\n",
              "    .dataframe thead th {\n",
              "        text-align: right;\n",
              "    }\n",
              "</style>\n",
              "<table border=\"1\" class=\"dataframe\">\n",
              "  <thead>\n",
              "    <tr style=\"text-align: right;\">\n",
              "      <th></th>\n",
              "      <th>label</th>\n",
              "      <th>pixel1</th>\n",
              "      <th>pixel2</th>\n",
              "      <th>pixel3</th>\n",
              "      <th>pixel4</th>\n",
              "      <th>pixel5</th>\n",
              "      <th>pixel6</th>\n",
              "      <th>pixel7</th>\n",
              "      <th>pixel8</th>\n",
              "      <th>pixel9</th>\n",
              "      <th>...</th>\n",
              "      <th>pixel776</th>\n",
              "      <th>pixel777</th>\n",
              "      <th>pixel778</th>\n",
              "      <th>pixel779</th>\n",
              "      <th>pixel780</th>\n",
              "      <th>pixel781</th>\n",
              "      <th>pixel782</th>\n",
              "      <th>pixel783</th>\n",
              "      <th>pixel784</th>\n",
              "      <th>Id</th>\n",
              "    </tr>\n",
              "  </thead>\n",
              "  <tbody>\n",
              "    <tr>\n",
              "      <th>0</th>\n",
              "      <td>2</td>\n",
              "      <td>0</td>\n",
              "      <td>0</td>\n",
              "      <td>0</td>\n",
              "      <td>0</td>\n",
              "      <td>0</td>\n",
              "      <td>0</td>\n",
              "      <td>0</td>\n",
              "      <td>0</td>\n",
              "      <td>0</td>\n",
              "      <td>...</td>\n",
              "      <td>0.0</td>\n",
              "      <td>0.0</td>\n",
              "      <td>0.0</td>\n",
              "      <td>0.0</td>\n",
              "      <td>0.0</td>\n",
              "      <td>0.0</td>\n",
              "      <td>0.0</td>\n",
              "      <td>0.0</td>\n",
              "      <td>0.0</td>\n",
              "      <td>0</td>\n",
              "    </tr>\n",
              "    <tr>\n",
              "      <th>1</th>\n",
              "      <td>9</td>\n",
              "      <td>0</td>\n",
              "      <td>0</td>\n",
              "      <td>0</td>\n",
              "      <td>0</td>\n",
              "      <td>0</td>\n",
              "      <td>0</td>\n",
              "      <td>0</td>\n",
              "      <td>0</td>\n",
              "      <td>0</td>\n",
              "      <td>...</td>\n",
              "      <td>0.0</td>\n",
              "      <td>0.0</td>\n",
              "      <td>0.0</td>\n",
              "      <td>0.0</td>\n",
              "      <td>0.0</td>\n",
              "      <td>0.0</td>\n",
              "      <td>0.0</td>\n",
              "      <td>0.0</td>\n",
              "      <td>0.0</td>\n",
              "      <td>1</td>\n",
              "    </tr>\n",
              "    <tr>\n",
              "      <th>2</th>\n",
              "      <td>6</td>\n",
              "      <td>0</td>\n",
              "      <td>0</td>\n",
              "      <td>0</td>\n",
              "      <td>0</td>\n",
              "      <td>0</td>\n",
              "      <td>0</td>\n",
              "      <td>0</td>\n",
              "      <td>5</td>\n",
              "      <td>0</td>\n",
              "      <td>...</td>\n",
              "      <td>0.0</td>\n",
              "      <td>0.0</td>\n",
              "      <td>30.0</td>\n",
              "      <td>43.0</td>\n",
              "      <td>0.0</td>\n",
              "      <td>0.0</td>\n",
              "      <td>0.0</td>\n",
              "      <td>0.0</td>\n",
              "      <td>0.0</td>\n",
              "      <td>2</td>\n",
              "    </tr>\n",
              "    <tr>\n",
              "      <th>3</th>\n",
              "      <td>0</td>\n",
              "      <td>0</td>\n",
              "      <td>0</td>\n",
              "      <td>0</td>\n",
              "      <td>1</td>\n",
              "      <td>2</td>\n",
              "      <td>0</td>\n",
              "      <td>0</td>\n",
              "      <td>0</td>\n",
              "      <td>0</td>\n",
              "      <td>...</td>\n",
              "      <td>0.0</td>\n",
              "      <td>0.0</td>\n",
              "      <td>0.0</td>\n",
              "      <td>0.0</td>\n",
              "      <td>1.0</td>\n",
              "      <td>0.0</td>\n",
              "      <td>0.0</td>\n",
              "      <td>0.0</td>\n",
              "      <td>0.0</td>\n",
              "      <td>3</td>\n",
              "    </tr>\n",
              "    <tr>\n",
              "      <th>4</th>\n",
              "      <td>3</td>\n",
              "      <td>0</td>\n",
              "      <td>0</td>\n",
              "      <td>0</td>\n",
              "      <td>0</td>\n",
              "      <td>0</td>\n",
              "      <td>0</td>\n",
              "      <td>0</td>\n",
              "      <td>0</td>\n",
              "      <td>0</td>\n",
              "      <td>...</td>\n",
              "      <td>0.0</td>\n",
              "      <td>0.0</td>\n",
              "      <td>0.0</td>\n",
              "      <td>0.0</td>\n",
              "      <td>0.0</td>\n",
              "      <td>0.0</td>\n",
              "      <td>0.0</td>\n",
              "      <td>0.0</td>\n",
              "      <td>0.0</td>\n",
              "      <td>4</td>\n",
              "    </tr>\n",
              "    <tr>\n",
              "      <th>...</th>\n",
              "      <td>...</td>\n",
              "      <td>...</td>\n",
              "      <td>...</td>\n",
              "      <td>...</td>\n",
              "      <td>...</td>\n",
              "      <td>...</td>\n",
              "      <td>...</td>\n",
              "      <td>...</td>\n",
              "      <td>...</td>\n",
              "      <td>...</td>\n",
              "      <td>...</td>\n",
              "      <td>...</td>\n",
              "      <td>...</td>\n",
              "      <td>...</td>\n",
              "      <td>...</td>\n",
              "      <td>...</td>\n",
              "      <td>...</td>\n",
              "      <td>...</td>\n",
              "      <td>...</td>\n",
              "      <td>...</td>\n",
              "      <td>...</td>\n",
              "    </tr>\n",
              "    <tr>\n",
              "      <th>17035</th>\n",
              "      <td>4</td>\n",
              "      <td>0</td>\n",
              "      <td>0</td>\n",
              "      <td>0</td>\n",
              "      <td>0</td>\n",
              "      <td>0</td>\n",
              "      <td>0</td>\n",
              "      <td>0</td>\n",
              "      <td>1</td>\n",
              "      <td>0</td>\n",
              "      <td>...</td>\n",
              "      <td>186.0</td>\n",
              "      <td>16.0</td>\n",
              "      <td>0.0</td>\n",
              "      <td>2.0</td>\n",
              "      <td>0.0</td>\n",
              "      <td>0.0</td>\n",
              "      <td>0.0</td>\n",
              "      <td>0.0</td>\n",
              "      <td>0.0</td>\n",
              "      <td>17035</td>\n",
              "    </tr>\n",
              "    <tr>\n",
              "      <th>17036</th>\n",
              "      <td>4</td>\n",
              "      <td>0</td>\n",
              "      <td>0</td>\n",
              "      <td>0</td>\n",
              "      <td>0</td>\n",
              "      <td>0</td>\n",
              "      <td>0</td>\n",
              "      <td>5</td>\n",
              "      <td>4</td>\n",
              "      <td>3</td>\n",
              "      <td>...</td>\n",
              "      <td>0.0</td>\n",
              "      <td>33.0</td>\n",
              "      <td>48.0</td>\n",
              "      <td>37.0</td>\n",
              "      <td>3.0</td>\n",
              "      <td>0.0</td>\n",
              "      <td>0.0</td>\n",
              "      <td>0.0</td>\n",
              "      <td>0.0</td>\n",
              "      <td>17036</td>\n",
              "    </tr>\n",
              "    <tr>\n",
              "      <th>17037</th>\n",
              "      <td>4</td>\n",
              "      <td>0</td>\n",
              "      <td>0</td>\n",
              "      <td>0</td>\n",
              "      <td>0</td>\n",
              "      <td>0</td>\n",
              "      <td>0</td>\n",
              "      <td>0</td>\n",
              "      <td>0</td>\n",
              "      <td>0</td>\n",
              "      <td>...</td>\n",
              "      <td>0.0</td>\n",
              "      <td>0.0</td>\n",
              "      <td>0.0</td>\n",
              "      <td>0.0</td>\n",
              "      <td>1.0</td>\n",
              "      <td>0.0</td>\n",
              "      <td>0.0</td>\n",
              "      <td>0.0</td>\n",
              "      <td>0.0</td>\n",
              "      <td>17037</td>\n",
              "    </tr>\n",
              "    <tr>\n",
              "      <th>17038</th>\n",
              "      <td>6</td>\n",
              "      <td>0</td>\n",
              "      <td>0</td>\n",
              "      <td>0</td>\n",
              "      <td>0</td>\n",
              "      <td>0</td>\n",
              "      <td>0</td>\n",
              "      <td>0</td>\n",
              "      <td>0</td>\n",
              "      <td>0</td>\n",
              "      <td>...</td>\n",
              "      <td>0.0</td>\n",
              "      <td>0.0</td>\n",
              "      <td>0.0</td>\n",
              "      <td>0.0</td>\n",
              "      <td>0.0</td>\n",
              "      <td>0.0</td>\n",
              "      <td>0.0</td>\n",
              "      <td>0.0</td>\n",
              "      <td>0.0</td>\n",
              "      <td>17038</td>\n",
              "    </tr>\n",
              "    <tr>\n",
              "      <th>17039</th>\n",
              "      <td>5</td>\n",
              "      <td>0</td>\n",
              "      <td>0</td>\n",
              "      <td>0</td>\n",
              "      <td>0</td>\n",
              "      <td>0</td>\n",
              "      <td>0</td>\n",
              "      <td>0</td>\n",
              "      <td>0</td>\n",
              "      <td>0</td>\n",
              "      <td>...</td>\n",
              "      <td>0.0</td>\n",
              "      <td>0.0</td>\n",
              "      <td>0.0</td>\n",
              "      <td>0.0</td>\n",
              "      <td>0.0</td>\n",
              "      <td>0.0</td>\n",
              "      <td>0.0</td>\n",
              "      <td>0.0</td>\n",
              "      <td>0.0</td>\n",
              "      <td>17039</td>\n",
              "    </tr>\n",
              "  </tbody>\n",
              "</table>\n",
              "<p>17040 rows × 786 columns</p>\n",
              "</div>\n",
              "      <button class=\"colab-df-convert\" onclick=\"convertToInteractive('df-7a6d3d9b-94be-4e7a-8281-b37dfae7f832')\"\n",
              "              title=\"Convert this dataframe to an interactive table.\"\n",
              "              style=\"display:none;\">\n",
              "        \n",
              "  <svg xmlns=\"http://www.w3.org/2000/svg\" height=\"24px\"viewBox=\"0 0 24 24\"\n",
              "       width=\"24px\">\n",
              "    <path d=\"M0 0h24v24H0V0z\" fill=\"none\"/>\n",
              "    <path d=\"M18.56 5.44l.94 2.06.94-2.06 2.06-.94-2.06-.94-.94-2.06-.94 2.06-2.06.94zm-11 1L8.5 8.5l.94-2.06 2.06-.94-2.06-.94L8.5 2.5l-.94 2.06-2.06.94zm10 10l.94 2.06.94-2.06 2.06-.94-2.06-.94-.94-2.06-.94 2.06-2.06.94z\"/><path d=\"M17.41 7.96l-1.37-1.37c-.4-.4-.92-.59-1.43-.59-.52 0-1.04.2-1.43.59L10.3 9.45l-7.72 7.72c-.78.78-.78 2.05 0 2.83L4 21.41c.39.39.9.59 1.41.59.51 0 1.02-.2 1.41-.59l7.78-7.78 2.81-2.81c.8-.78.8-2.07 0-2.86zM5.41 20L4 18.59l7.72-7.72 1.47 1.35L5.41 20z\"/>\n",
              "  </svg>\n",
              "      </button>\n",
              "      \n",
              "  <style>\n",
              "    .colab-df-container {\n",
              "      display:flex;\n",
              "      flex-wrap:wrap;\n",
              "      gap: 12px;\n",
              "    }\n",
              "\n",
              "    .colab-df-convert {\n",
              "      background-color: #E8F0FE;\n",
              "      border: none;\n",
              "      border-radius: 50%;\n",
              "      cursor: pointer;\n",
              "      display: none;\n",
              "      fill: #1967D2;\n",
              "      height: 32px;\n",
              "      padding: 0 0 0 0;\n",
              "      width: 32px;\n",
              "    }\n",
              "\n",
              "    .colab-df-convert:hover {\n",
              "      background-color: #E2EBFA;\n",
              "      box-shadow: 0px 1px 2px rgba(60, 64, 67, 0.3), 0px 1px 3px 1px rgba(60, 64, 67, 0.15);\n",
              "      fill: #174EA6;\n",
              "    }\n",
              "\n",
              "    [theme=dark] .colab-df-convert {\n",
              "      background-color: #3B4455;\n",
              "      fill: #D2E3FC;\n",
              "    }\n",
              "\n",
              "    [theme=dark] .colab-df-convert:hover {\n",
              "      background-color: #434B5C;\n",
              "      box-shadow: 0px 1px 3px 1px rgba(0, 0, 0, 0.15);\n",
              "      filter: drop-shadow(0px 1px 2px rgba(0, 0, 0, 0.3));\n",
              "      fill: #FFFFFF;\n",
              "    }\n",
              "  </style>\n",
              "\n",
              "      <script>\n",
              "        const buttonEl =\n",
              "          document.querySelector('#df-7a6d3d9b-94be-4e7a-8281-b37dfae7f832 button.colab-df-convert');\n",
              "        buttonEl.style.display =\n",
              "          google.colab.kernel.accessAllowed ? 'block' : 'none';\n",
              "\n",
              "        async function convertToInteractive(key) {\n",
              "          const element = document.querySelector('#df-7a6d3d9b-94be-4e7a-8281-b37dfae7f832');\n",
              "          const dataTable =\n",
              "            await google.colab.kernel.invokeFunction('convertToInteractive',\n",
              "                                                     [key], {});\n",
              "          if (!dataTable) return;\n",
              "\n",
              "          const docLinkHtml = 'Like what you see? Visit the ' +\n",
              "            '<a target=\"_blank\" href=https://colab.research.google.com/notebooks/data_table.ipynb>data table notebook</a>'\n",
              "            + ' to learn more about interactive tables.';\n",
              "          element.innerHTML = '';\n",
              "          dataTable['output_type'] = 'display_data';\n",
              "          await google.colab.output.renderOutput(dataTable, element);\n",
              "          const docLink = document.createElement('div');\n",
              "          docLink.innerHTML = docLinkHtml;\n",
              "          element.appendChild(docLink);\n",
              "        }\n",
              "      </script>\n",
              "    </div>\n",
              "  </div>\n",
              "  "
            ]
          },
          "metadata": {},
          "execution_count": 121
        }
      ]
    },
    {
      "cell_type": "code",
      "source": [
        "train_filled[\"label\"].value_counts() # Плюс минус одинаково - это хорошо"
      ],
      "metadata": {
        "colab": {
          "base_uri": "https://localhost:8080/"
        },
        "id": "9s6uVbZ_oVHi",
        "outputId": "119a3cd6-4a55-46f4-a6c3-41271f71a52a"
      },
      "execution_count": 122,
      "outputs": [
        {
          "output_type": "execute_result",
          "data": {
            "text/plain": [
              "0    1770\n",
              "7    1761\n",
              "3    1725\n",
              "6    1704\n",
              "1    1700\n",
              "5    1695\n",
              "9    1694\n",
              "2    1677\n",
              "8    1675\n",
              "4    1639\n",
              "Name: label, dtype: int64"
            ]
          },
          "metadata": {},
          "execution_count": 122
        }
      ]
    },
    {
      "cell_type": "markdown",
      "source": [
        "## Проверим пропуски"
      ],
      "metadata": {
        "id": "aLsAoN40rREa"
      }
    },
    {
      "cell_type": "code",
      "source": [
        "cols_to_transform = train_filled.select_dtypes(include=\"float64\").columns\n",
        "\n",
        "train_casted = train_filled.copy()\n",
        "test_casted = test_filled.copy()\n",
        "train_casted[cols_to_transform] = train_filled[cols_to_transform].astype(np.float16)\n",
        "test_casted[cols_to_transform] = test_filled[cols_to_transform].astype(np.float16)"
      ],
      "metadata": {
        "id": "wganNMZxqqlt"
      },
      "execution_count": 123,
      "outputs": []
    },
    {
      "cell_type": "code",
      "source": [
        "train_casted.info(), test_casted.info() # Отлично уменьшили размер в ~15 раз. Надеюсь не будет проблем с совместимостью типов"
      ],
      "metadata": {
        "colab": {
          "base_uri": "https://localhost:8080/"
        },
        "id": "mALghG5_qyDE",
        "outputId": "89e3b8b0-5610-4b03-8950-412db9d48601"
      },
      "execution_count": 124,
      "outputs": [
        {
          "output_type": "stream",
          "name": "stdout",
          "text": [
            "<class 'pandas.core.frame.DataFrame'>\n",
            "RangeIndex: 17040 entries, 0 to 17039\n",
            "Columns: 786 entries, label to Id\n",
            "dtypes: float16(424), int64(362)\n",
            "memory usage: 60.8 MB\n",
            "<class 'pandas.core.frame.DataFrame'>\n",
            "RangeIndex: 10000 entries, 0 to 9999\n",
            "Columns: 785 entries, pixel1 to Id\n",
            "dtypes: float16(424), int64(361)\n",
            "memory usage: 35.6 MB\n"
          ]
        },
        {
          "output_type": "execute_result",
          "data": {
            "text/plain": [
              "(None, None)"
            ]
          },
          "metadata": {},
          "execution_count": 124
        }
      ]
    },
    {
      "cell_type": "markdown",
      "source": [
        "### Преобразуем данные и взглянем на изображения"
      ],
      "metadata": {
        "id": "PbppnbNMzQTo"
      }
    },
    {
      "cell_type": "code",
      "source": [
        "_indices = np.random.randint(0, len(train_casted), size=(16,))\n",
        "_images = train_casted.iloc[_indices, 1:-1].values\n",
        "_labels = train_casted.iloc[_indices, 0].values\n",
        "\n",
        "fig = plt.figure(figsize=(15,5))\n",
        "for i, (image, label) in enumerate(zip(_images, _labels)):\n",
        "  ax = fig.add_subplot(4, 16//4, i+1)\n",
        "  ax.imshow(image.reshape(IMG_DIMENSION, IMG_DIMENSION), cmap='gray')\n",
        "  ax.set_title(label)\n",
        "  fig.tight_layout()\n",
        "\n",
        "fig.suptitle('Image examples')\n",
        "\n",
        "# Вроде все ок"
      ],
      "metadata": {
        "colab": {
          "base_uri": "https://localhost:8080/",
          "height": 493
        },
        "id": "Unzy9lOWQnKf",
        "outputId": "f5960014-538e-435a-a71a-2155d9a747fc"
      },
      "execution_count": 125,
      "outputs": [
        {
          "output_type": "execute_result",
          "data": {
            "text/plain": [
              "Text(0.5, 0.98, 'Image examples')"
            ]
          },
          "metadata": {},
          "execution_count": 125
        },
        {
          "output_type": "display_data",
          "data": {
            "text/plain": [
              "<Figure size 1500x500 with 16 Axes>"
            ],
            "image/png": "[encoded data removed]"
          },
          "metadata": {}
        }
      ]
    },
    {
      "cell_type": "code",
      "source": [
        "# Подготовим данные для того чтобы скормить их модели\n",
        "X, y = preprocess_images(train_casted.iloc[:, 1:-1].values), \\\n",
        "                    target_to_categorical(train_casted.iloc[:, 0].values) # Not shuffled it's important\n",
        "\n",
        "X.shape, y.shape # Кажется все ок"
      ],
      "metadata": {
        "colab": {
          "base_uri": "https://localhost:8080/"
        },
        "id": "77wrfEsDU96D",
        "outputId": "5c009a73-5137-4629-f9ce-66ec3247a7dc"
      },
      "execution_count": 126,
      "outputs": [
        {
          "output_type": "execute_result",
          "data": {
            "text/plain": [
              "((17040, 28, 28, 1), (17040, 10))"
            ]
          },
          "metadata": {},
          "execution_count": 126
        }
      ]
    },
    {
      "cell_type": "code",
      "source": [
        "# Подготовим тренировочную и тестовую выборку\n",
        "\n",
        "X_train, X_test, y_train, y_test =  train_test_split(X, y, test_size=0.2, stratify=y)\n",
        "X_train.shape, X_test.shape, y_train.shape, y_test.shape # Гуд"
      ],
      "metadata": {
        "colab": {
          "base_uri": "https://localhost:8080/"
        },
        "id": "gHS3lcaMhftv",
        "outputId": "4832e2af-3bda-4099-c1e4-b7e620f1873d"
      },
      "execution_count": 127,
      "outputs": [
        {
          "output_type": "execute_result",
          "data": {
            "text/plain": [
              "((13632, 28, 28, 1), (3408, 28, 28, 1), (13632, 10), (3408, 10))"
            ]
          },
          "metadata": {},
          "execution_count": 127
        }
      ]
    },
    {
      "cell_type": "code",
      "source": [
        "def _create_model() -> Sequential: # Попробуем вот такие параметры\n",
        "  model = Sequential()\n",
        "\n",
        "  model.add(\n",
        "    Conv2D(\n",
        "      16, kernel_size=(3, 3),\n",
        "      activation='gelu',\n",
        "      padding='same',\n",
        "      input_shape=(IMG_DIMENSION, IMG_DIMENSION, 1)\n",
        "    )\n",
        "  )\n",
        "  model.add(\n",
        "      BatchNormalization()\n",
        "  )\n",
        "\n",
        "  model.add(\n",
        "    Conv2D(\n",
        "      32, kernel_size=(3, 3),\n",
        "      activation='gelu',\n",
        "      padding='same',\n",
        "      # input_shape=(IMG_DIMENSION, IMG_DIMENSION, 1)\n",
        "    )\n",
        "  )\n",
        "  model.add(\n",
        "      MaxPooling2D(2, 2)\n",
        "  )\n",
        "  model.add(Dropout(0.25))\n",
        "  model.add(\n",
        "    Conv2D(64, kernel_size=(3, 3), padding='same', activation='gelu')   \n",
        "  )\n",
        "  model.add(\n",
        "      MaxPooling2D(2, 2)\n",
        "  )\n",
        "  model.add(Conv2D(128, (3, 3), padding='same', activation='gelu'))\n",
        "  model.add(\n",
        "      MaxPooling2D(2, 2)\n",
        "  )\n",
        "  model.add(Flatten())\n",
        "  model.add(Dense(256, activation='gelu'))\n",
        "  model.add(Dropout(0.25))\n",
        "  model.add(Dense(CLASSES, activation='softmax'))\n",
        "\n",
        "  return model\n",
        "\n",
        "model = _create_model()\n",
        "\n",
        "model.compile(\n",
        "    optim.Adam(learning_rate=LR),\n",
        "    categorical_crossentropy,\n",
        "    metrics=[CategoricalAccuracy()]\n",
        ")\n",
        "\n",
        "model.summary()"
      ],
      "metadata": {
        "colab": {
          "base_uri": "https://localhost:8080/"
        },
        "id": "EoBdAYCyxzUO",
        "outputId": "e1ceb7d4-1b4c-456c-b19e-3791b8aaca63"
      },
      "execution_count": 128,
      "outputs": [
        {
          "output_type": "stream",
          "name": "stdout",
          "text": [
            "Model: \"sequential_23\"\n",
            "_________________________________________________________________\n",
            " Layer (type)                Output Shape              Param #   \n",
            "=================================================================\n",
            " conv2d_82 (Conv2D)          (None, 28, 28, 16)        160       \n",
            "                                                                 \n",
            " batch_normalization_38 (Bat  (None, 28, 28, 16)       64        \n",
            " chNormalization)                                                \n",
            "                                                                 \n",
            " conv2d_83 (Conv2D)          (None, 28, 28, 32)        4640      \n",
            "                                                                 \n",
            " max_pooling2d_70 (MaxPoolin  (None, 14, 14, 32)       0         \n",
            " g2D)                                                            \n",
            "                                                                 \n",
            " dropout_58 (Dropout)        (None, 14, 14, 32)        0         \n",
            "                                                                 \n",
            " conv2d_84 (Conv2D)          (None, 14, 14, 64)        18496     \n",
            "                                                                 \n",
            " max_pooling2d_71 (MaxPoolin  (None, 7, 7, 64)         0         \n",
            " g2D)                                                            \n",
            "                                                                 \n",
            " conv2d_85 (Conv2D)          (None, 7, 7, 128)         73856     \n",
            "                                                                 \n",
            " max_pooling2d_72 (MaxPoolin  (None, 3, 3, 128)        0         \n",
            " g2D)                                                            \n",
            "                                                                 \n",
            " flatten_23 (Flatten)        (None, 1152)              0         \n",
            "                                                                 \n",
            " dense_46 (Dense)            (None, 256)               295168    \n",
            "                                                                 \n",
            " dropout_59 (Dropout)        (None, 256)               0         \n",
            "                                                                 \n",
            " dense_47 (Dense)            (None, 10)                2570      \n",
            "                                                                 \n",
            "=================================================================\n",
            "Total params: 394,954\n",
            "Trainable params: 394,922\n",
            "Non-trainable params: 32\n",
            "_________________________________________________________________\n"
          ]
        }
      ]
    },
    {
      "cell_type": "code",
      "source": [
        "## Обучим модель\n",
        "_history = model.fit(\n",
        "    x=X_train, y=y_train,\n",
        "    batch_size=BATCH_SIZE,\n",
        "    epochs=EPOCHS,\n",
        "    verbose=1,\n",
        "    validation_data=(X_test, y_test)\n",
        ")\n",
        "\n",
        "plot_train_history(_history.history) # По графику наверно можно сказать что есть все же переобучение"
      ],
      "metadata": {
        "colab": {
          "base_uri": "https://localhost:8080/",
          "height": 962
        },
        "id": "VxZ4NGS233k1",
        "outputId": "a70f4a74-5abc-4ef5-d152-523a1c8616bc"
      },
      "execution_count": 129,
      "outputs": [
        {
          "output_type": "stream",
          "name": "stdout",
          "text": [
            "Epoch 1/10\n",
            "213/213 [==============================] - 3s 10ms/step - loss: 0.6136 - categorical_accuracy: 0.7796 - val_loss: 1.7854 - val_categorical_accuracy: 0.7567\n",
            "Epoch 2/10\n",
            "213/213 [==============================] - 2s 9ms/step - loss: 0.3628 - categorical_accuracy: 0.8668 - val_loss: 0.6448 - val_categorical_accuracy: 0.7955\n",
            "Epoch 3/10\n",
            "213/213 [==============================] - 2s 8ms/step - loss: 0.3028 - categorical_accuracy: 0.8860 - val_loss: 0.3014 - val_categorical_accuracy: 0.8897\n",
            "Epoch 4/10\n",
            "213/213 [==============================] - 2s 8ms/step - loss: 0.2555 - categorical_accuracy: 0.9044 - val_loss: 0.2825 - val_categorical_accuracy: 0.8958\n",
            "Epoch 5/10\n",
            "213/213 [==============================] - 2s 11ms/step - loss: 0.2195 - categorical_accuracy: 0.9178 - val_loss: 0.2996 - val_categorical_accuracy: 0.8955\n",
            "Epoch 6/10\n",
            "213/213 [==============================] - 2s 9ms/step - loss: 0.1981 - categorical_accuracy: 0.9252 - val_loss: 0.2877 - val_categorical_accuracy: 0.8973\n",
            "Epoch 7/10\n",
            "213/213 [==============================] - 2s 8ms/step - loss: 0.1696 - categorical_accuracy: 0.9363 - val_loss: 0.2958 - val_categorical_accuracy: 0.8982\n",
            "Epoch 8/10\n",
            "213/213 [==============================] - 2s 8ms/step - loss: 0.1544 - categorical_accuracy: 0.9418 - val_loss: 0.3180 - val_categorical_accuracy: 0.8979\n",
            "Epoch 9/10\n",
            "213/213 [==============================] - 2s 8ms/step - loss: 0.1338 - categorical_accuracy: 0.9507 - val_loss: 0.3588 - val_categorical_accuracy: 0.8882\n",
            "Epoch 10/10\n",
            "213/213 [==============================] - 2s 9ms/step - loss: 0.1173 - categorical_accuracy: 0.9557 - val_loss: 0.3265 - val_categorical_accuracy: 0.9046\n"
          ]
        },
        {
          "output_type": "display_data",
          "data": {
            "text/plain": [
              "<Figure size 800x600 with 1 Axes>"
            ],
            "image/png": "[encoded data removed]"
          },
          "metadata": {}
        }
      ]
    },
    {
      "cell_type": "code",
      "source": [
        "validate_model(model, X_test, y_test) # Неплохо, но переобучились слегка"
      ],
      "metadata": {
        "colab": {
          "base_uri": "https://localhost:8080/"
        },
        "id": "NTk4eD-P8Ebe",
        "outputId": "91a58947-1bd4-405c-b91f-12972d4d2b67"
      },
      "execution_count": 130,
      "outputs": [
        {
          "output_type": "stream",
          "name": "stdout",
          "text": [
            "107/107 [==============================] - 0s 3ms/step - loss: 0.3265 - categorical_accuracy: 0.9046\n",
            "Model loss: 0.3265490233898163\n",
            "Model accuracy: 0.9046361446380615\n"
          ]
        }
      ]
    },
    {
      "cell_type": "code",
      "source": [
        "def _create_modelv2() -> Sequential: # Попробуем вот такие параметры\n",
        "  model = Sequential()\n",
        "  model.add(\n",
        "    Conv2D(\n",
        "      16, kernel_size=(3, 3),\n",
        "      activation='gelu',\n",
        "      padding='same',\n",
        "      input_shape=(IMG_DIMENSION, IMG_DIMENSION, 1)\n",
        "    )\n",
        "  )\n",
        "  model.add(BatchNormalization())\n",
        "  model.add(Dropout(0.25))\n",
        "\n",
        "  model.add(\n",
        "    Conv2D(\n",
        "      32, kernel_size=(3, 3),\n",
        "      activation='gelu',\n",
        "      padding='same',\n",
        "    )\n",
        "  )\n",
        "  model.add(BatchNormalization())\n",
        "  model.add(MaxPooling2D(2, 2))\n",
        "  model.add(Dropout(0.15))\n",
        "  model.add(\n",
        "    Conv2D(64, kernel_size=(3, 3), padding='same', activation='gelu')   \n",
        "  )\n",
        "  model.add(BatchNormalization())\n",
        "  model.add(MaxPooling2D(2, 2))\n",
        "  model.add(Dropout(0.25))\n",
        "  model.add(Conv2D(128, (3, 3), padding='same', activation='gelu'))\n",
        "  model.add(BatchNormalization())\n",
        "  model.add(MaxPooling2D(2, 2))\n",
        "\n",
        "  model.add(Flatten())\n",
        "  model.add(Dense(256, activation='gelu'))\n",
        "  model.add(Dropout(0.35))\n",
        "  model.add(Dense(CLASSES, activation='softmax'))\n",
        "\n",
        "  return model\n",
        "\n",
        "modelv2 = _create_modelv2()\n",
        "\n",
        "modelv2.compile(\n",
        "    optim.Adam(learning_rate=LR),\n",
        "    categorical_crossentropy,\n",
        "    metrics=[CategoricalAccuracy()]\n",
        ")\n",
        "\n",
        "modelv2.summary()"
      ],
      "metadata": {
        "colab": {
          "base_uri": "https://localhost:8080/"
        },
        "id": "KU_YQqQ55oTQ",
        "outputId": "805d942b-4622-410d-cef5-eb7e19784b4c"
      },
      "execution_count": 131,
      "outputs": [
        {
          "output_type": "stream",
          "name": "stdout",
          "text": [
            "Model: \"sequential_24\"\n",
            "_________________________________________________________________\n",
            " Layer (type)                Output Shape              Param #   \n",
            "=================================================================\n",
            " conv2d_86 (Conv2D)          (None, 28, 28, 16)        160       \n",
            "                                                                 \n",
            " batch_normalization_39 (Bat  (None, 28, 28, 16)       64        \n",
            " chNormalization)                                                \n",
            "                                                                 \n",
            " dropout_60 (Dropout)        (None, 28, 28, 16)        0         \n",
            "                                                                 \n",
            " conv2d_87 (Conv2D)          (None, 28, 28, 32)        4640      \n",
            "                                                                 \n",
            " batch_normalization_40 (Bat  (None, 28, 28, 32)       128       \n",
            " chNormalization)                                                \n",
            "                                                                 \n",
            " max_pooling2d_73 (MaxPoolin  (None, 14, 14, 32)       0         \n",
            " g2D)                                                            \n",
            "                                                                 \n",
            " dropout_61 (Dropout)        (None, 14, 14, 32)        0         \n",
            "                                                                 \n",
            " conv2d_88 (Conv2D)          (None, 14, 14, 64)        18496     \n",
            "                                                                 \n",
            " batch_normalization_41 (Bat  (None, 14, 14, 64)       256       \n",
            " chNormalization)                                                \n",
            "                                                                 \n",
            " max_pooling2d_74 (MaxPoolin  (None, 7, 7, 64)         0         \n",
            " g2D)                                                            \n",
            "                                                                 \n",
            " dropout_62 (Dropout)        (None, 7, 7, 64)          0         \n",
            "                                                                 \n",
            " conv2d_89 (Conv2D)          (None, 7, 7, 128)         73856     \n",
            "                                                                 \n",
            " batch_normalization_42 (Bat  (None, 7, 7, 128)        512       \n",
            " chNormalization)                                                \n",
            "                                                                 \n",
            " max_pooling2d_75 (MaxPoolin  (None, 3, 3, 128)        0         \n",
            " g2D)                                                            \n",
            "                                                                 \n",
            " flatten_24 (Flatten)        (None, 1152)              0         \n",
            "                                                                 \n",
            " dense_48 (Dense)            (None, 256)               295168    \n",
            "                                                                 \n",
            " dropout_63 (Dropout)        (None, 256)               0         \n",
            "                                                                 \n",
            " dense_49 (Dense)            (None, 10)                2570      \n",
            "                                                                 \n",
            "=================================================================\n",
            "Total params: 395,850\n",
            "Trainable params: 395,370\n",
            "Non-trainable params: 480\n",
            "_________________________________________________________________\n"
          ]
        }
      ]
    },
    {
      "cell_type": "code",
      "source": [
        "_historyV2 = modelv2.fit(\n",
        "    x=X_train, y=y_train,\n",
        "    batch_size=BATCH_SIZE,\n",
        "    epochs=EPOCHS,\n",
        "    verbose=1,\n",
        "    validation_data=(X_test, y_test)\n",
        ")\n",
        "\n",
        "plot_train_history(_historyV2.history) # Отлично по графику мы избавились от переобучения, а значит на новых данных будем точнее"
      ],
      "metadata": {
        "colab": {
          "base_uri": "https://localhost:8080/",
          "height": 962
        },
        "id": "q23FEp6H7iPr",
        "outputId": "f182b438-8304-4250-dd19-2cc45e6a675e"
      },
      "execution_count": 132,
      "outputs": [
        {
          "output_type": "stream",
          "name": "stdout",
          "text": [
            "Epoch 1/10\n",
            "213/213 [==============================] - 4s 12ms/step - loss: 0.7749 - categorical_accuracy: 0.7248 - val_loss: 6.4021 - val_categorical_accuracy: 0.0983\n",
            "Epoch 2/10\n",
            "213/213 [==============================] - 2s 10ms/step - loss: 0.4972 - categorical_accuracy: 0.8145 - val_loss: 2.5321 - val_categorical_accuracy: 0.4240\n",
            "Epoch 3/10\n",
            "213/213 [==============================] - 2s 10ms/step - loss: 0.4256 - categorical_accuracy: 0.8447 - val_loss: 0.5160 - val_categorical_accuracy: 0.8143\n",
            "Epoch 4/10\n",
            "213/213 [==============================] - 2s 10ms/step - loss: 0.3777 - categorical_accuracy: 0.8600 - val_loss: 0.3516 - val_categorical_accuracy: 0.8650\n",
            "Epoch 5/10\n",
            "213/213 [==============================] - 2s 10ms/step - loss: 0.3451 - categorical_accuracy: 0.8718 - val_loss: 0.3327 - val_categorical_accuracy: 0.8697\n",
            "Epoch 6/10\n",
            "213/213 [==============================] - 2s 11ms/step - loss: 0.3138 - categorical_accuracy: 0.8818 - val_loss: 0.3001 - val_categorical_accuracy: 0.8862\n",
            "Epoch 7/10\n",
            "213/213 [==============================] - 2s 10ms/step - loss: 0.2932 - categorical_accuracy: 0.8920 - val_loss: 0.2972 - val_categorical_accuracy: 0.8952\n",
            "Epoch 8/10\n",
            "213/213 [==============================] - 2s 10ms/step - loss: 0.2738 - categorical_accuracy: 0.8972 - val_loss: 0.3002 - val_categorical_accuracy: 0.8958\n",
            "Epoch 9/10\n",
            "213/213 [==============================] - 2s 10ms/step - loss: 0.2628 - categorical_accuracy: 0.8981 - val_loss: 0.3068 - val_categorical_accuracy: 0.8958\n",
            "Epoch 10/10\n",
            "213/213 [==============================] - 2s 10ms/step - loss: 0.2481 - categorical_accuracy: 0.9081 - val_loss: 0.2867 - val_categorical_accuracy: 0.8970\n"
          ]
        },
        {
          "output_type": "display_data",
          "data": {
            "text/plain": [
              "<Figure size 800x600 with 1 Axes>"
            ],
            "image/png": "[encoded data removed]"
          },
          "metadata": {}
        }
      ]
    },
    {
      "cell_type": "code",
      "source": [
        "validate_model(modelv2, X_test, y_test) # Удалось избавиться от переобучения, при этом сохранить относительно высокую точность "
      ],
      "metadata": {
        "colab": {
          "base_uri": "https://localhost:8080/"
        },
        "id": "cK_PbFck8yq-",
        "outputId": "f2becbc1-850c-4d7c-9c9a-f7a753d5051b"
      },
      "execution_count": 133,
      "outputs": [
        {
          "output_type": "stream",
          "name": "stdout",
          "text": [
            "107/107 [==============================] - 0s 3ms/step - loss: 0.2867 - categorical_accuracy: 0.8970\n",
            "Model loss: 0.2867323160171509\n",
            "Model accuracy: 0.8970070481300354\n"
          ]
        }
      ]
    },
    {
      "cell_type": "markdown",
      "source": [
        "## Submit"
      ],
      "metadata": {
        "id": "D9tUzlxJHHgL"
      }
    },
    {
      "cell_type": "code",
      "source": [
        "X_test = preprocess_images(test_casted.iloc[:, :-1].values)\n",
        "X_test.shape, len(test_casted) # Ок"
      ],
      "metadata": {
        "colab": {
          "base_uri": "https://localhost:8080/"
        },
        "id": "TldPIPmp82us",
        "outputId": "cf62e9bd-881a-44a0-ff58-4919e4574b9a"
      },
      "execution_count": 134,
      "outputs": [
        {
          "output_type": "execute_result",
          "data": {
            "text/plain": [
              "((10000, 28, 28, 1), 10000)"
            ]
          },
          "metadata": {},
          "execution_count": 134
        }
      ]
    },
    {
      "cell_type": "code",
      "source": [
        "predictions = modelv2.predict(X_test) \n",
        "predictions_classes = np.argmax(predictions, axis=1)\n",
        "# predictions.shape\n",
        "predictions_classes.shape"
      ],
      "metadata": {
        "colab": {
          "base_uri": "https://localhost:8080/"
        },
        "id": "NtXYRAnMHdnH",
        "outputId": "91047cb0-01ba-4745-c6ec-3c62d7711524"
      },
      "execution_count": 137,
      "outputs": [
        {
          "output_type": "stream",
          "name": "stdout",
          "text": [
            "313/313 [==============================] - 1s 4ms/step\n"
          ]
        },
        {
          "output_type": "execute_result",
          "data": {
            "text/plain": [
              "(10000,)"
            ]
          },
          "metadata": {},
          "execution_count": 137
        }
      ]
    },
    {
      "cell_type": "code",
      "source": [
        "## Отправим результаты\n",
        "submission = pd.DataFrame(data=predictions_classes, columns=['Category'], index=test_casted.iloc[:, -1])\n",
        "submission"
      ],
      "metadata": {
        "colab": {
          "base_uri": "https://localhost:8080/",
          "height": 450
        },
        "id": "ZYfOzCdiKLu4",
        "outputId": "cab60c46-a56a-447a-e545-1ea134c41885"
      },
      "execution_count": 145,
      "outputs": [
        {
          "output_type": "execute_result",
          "data": {
            "text/plain": [
              "      Category\n",
              "Id            \n",
              "0            0\n",
              "1            1\n",
              "2            2\n",
              "3            6\n",
              "4            3\n",
              "...        ...\n",
              "9995         0\n",
              "9996         6\n",
              "9997         8\n",
              "9998         8\n",
              "9999         1\n",
              "\n",
              "[10000 rows x 1 columns]"
            ],
            "text/html": [
              "\n",
              "  <div id=\"df-5dc6bd7b-257b-4413-ad2c-9a4e289fae86\">\n",
              "    <div class=\"colab-df-container\">\n",
              "      <div>\n",
              "<style scoped>\n",
              "    .dataframe tbody tr th:only-of-type {\n",
              "        vertical-align: middle;\n",
              "    }\n",
              "\n",
              "    .dataframe tbody tr th {\n",
              "        vertical-align: top;\n",
              "    }\n",
              "\n",
              "    .dataframe thead th {\n",
              "        text-align: right;\n",
              "    }\n",
              "</style>\n",
              "<table border=\"1\" class=\"dataframe\">\n",
              "  <thead>\n",
              "    <tr style=\"text-align: right;\">\n",
              "      <th></th>\n",
              "      <th>Category</th>\n",
              "    </tr>\n",
              "    <tr>\n",
              "      <th>Id</th>\n",
              "      <th></th>\n",
              "    </tr>\n",
              "  </thead>\n",
              "  <tbody>\n",
              "    <tr>\n",
              "      <th>0</th>\n",
              "      <td>0</td>\n",
              "    </tr>\n",
              "    <tr>\n",
              "      <th>1</th>\n",
              "      <td>1</td>\n",
              "    </tr>\n",
              "    <tr>\n",
              "      <th>2</th>\n",
              "      <td>2</td>\n",
              "    </tr>\n",
              "    <tr>\n",
              "      <th>3</th>\n",
              "      <td>6</td>\n",
              "    </tr>\n",
              "    <tr>\n",
              "      <th>4</th>\n",
              "      <td>3</td>\n",
              "    </tr>\n",
              "    <tr>\n",
              "      <th>...</th>\n",
              "      <td>...</td>\n",
              "    </tr>\n",
              "    <tr>\n",
              "      <th>9995</th>\n",
              "      <td>0</td>\n",
              "    </tr>\n",
              "    <tr>\n",
              "      <th>9996</th>\n",
              "      <td>6</td>\n",
              "    </tr>\n",
              "    <tr>\n",
              "      <th>9997</th>\n",
              "      <td>8</td>\n",
              "    </tr>\n",
              "    <tr>\n",
              "      <th>9998</th>\n",
              "      <td>8</td>\n",
              "    </tr>\n",
              "    <tr>\n",
              "      <th>9999</th>\n",
              "      <td>1</td>\n",
              "    </tr>\n",
              "  </tbody>\n",
              "</table>\n",
              "<p>10000 rows × 1 columns</p>\n",
              "</div>\n",
              "      <button class=\"colab-df-convert\" onclick=\"convertToInteractive('df-5dc6bd7b-257b-4413-ad2c-9a4e289fae86')\"\n",
              "              title=\"Convert this dataframe to an interactive table.\"\n",
              "              style=\"display:none;\">\n",
              "        \n",
              "  <svg xmlns=\"http://www.w3.org/2000/svg\" height=\"24px\"viewBox=\"0 0 24 24\"\n",
              "       width=\"24px\">\n",
              "    <path d=\"M0 0h24v24H0V0z\" fill=\"none\"/>\n",
              "    <path d=\"M18.56 5.44l.94 2.06.94-2.06 2.06-.94-2.06-.94-.94-2.06-.94 2.06-2.06.94zm-11 1L8.5 8.5l.94-2.06 2.06-.94-2.06-.94L8.5 2.5l-.94 2.06-2.06.94zm10 10l.94 2.06.94-2.06 2.06-.94-2.06-.94-.94-2.06-.94 2.06-2.06.94z\"/><path d=\"M17.41 7.96l-1.37-1.37c-.4-.4-.92-.59-1.43-.59-.52 0-1.04.2-1.43.59L10.3 9.45l-7.72 7.72c-.78.78-.78 2.05 0 2.83L4 21.41c.39.39.9.59 1.41.59.51 0 1.02-.2 1.41-.59l7.78-7.78 2.81-2.81c.8-.78.8-2.07 0-2.86zM5.41 20L4 18.59l7.72-7.72 1.47 1.35L5.41 20z\"/>\n",
              "  </svg>\n",
              "      </button>\n",
              "      \n",
              "  <style>\n",
              "    .colab-df-container {\n",
              "      display:flex;\n",
              "      flex-wrap:wrap;\n",
              "      gap: 12px;\n",
              "    }\n",
              "\n",
              "    .colab-df-convert {\n",
              "      background-color: #E8F0FE;\n",
              "      border: none;\n",
              "      border-radius: 50%;\n",
              "      cursor: pointer;\n",
              "      display: none;\n",
              "      fill: #1967D2;\n",
              "      height: 32px;\n",
              "      padding: 0 0 0 0;\n",
              "      width: 32px;\n",
              "    }\n",
              "\n",
              "    .colab-df-convert:hover {\n",
              "      background-color: #E2EBFA;\n",
              "      box-shadow: 0px 1px 2px rgba(60, 64, 67, 0.3), 0px 1px 3px 1px rgba(60, 64, 67, 0.15);\n",
              "      fill: #174EA6;\n",
              "    }\n",
              "\n",
              "    [theme=dark] .colab-df-convert {\n",
              "      background-color: #3B4455;\n",
              "      fill: #D2E3FC;\n",
              "    }\n",
              "\n",
              "    [theme=dark] .colab-df-convert:hover {\n",
              "      background-color: #434B5C;\n",
              "      box-shadow: 0px 1px 3px 1px rgba(0, 0, 0, 0.15);\n",
              "      filter: drop-shadow(0px 1px 2px rgba(0, 0, 0, 0.3));\n",
              "      fill: #FFFFFF;\n",
              "    }\n",
              "  </style>\n",
              "\n",
              "      <script>\n",
              "        const buttonEl =\n",
              "          document.querySelector('#df-5dc6bd7b-257b-4413-ad2c-9a4e289fae86 button.colab-df-convert');\n",
              "        buttonEl.style.display =\n",
              "          google.colab.kernel.accessAllowed ? 'block' : 'none';\n",
              "\n",
              "        async function convertToInteractive(key) {\n",
              "          const element = document.querySelector('#df-5dc6bd7b-257b-4413-ad2c-9a4e289fae86');\n",
              "          const dataTable =\n",
              "            await google.colab.kernel.invokeFunction('convertToInteractive',\n",
              "                                                     [key], {});\n",
              "          if (!dataTable) return;\n",
              "\n",
              "          const docLinkHtml = 'Like what you see? Visit the ' +\n",
              "            '<a target=\"_blank\" href=https://colab.research.google.com/notebooks/data_table.ipynb>data table notebook</a>'\n",
              "            + ' to learn more about interactive tables.';\n",
              "          element.innerHTML = '';\n",
              "          dataTable['output_type'] = 'display_data';\n",
              "          await google.colab.output.renderOutput(dataTable, element);\n",
              "          const docLink = document.createElement('div');\n",
              "          docLink.innerHTML = docLinkHtml;\n",
              "          element.appendChild(docLink);\n",
              "        }\n",
              "      </script>\n",
              "    </div>\n",
              "  </div>\n",
              "  "
            ]
          },
          "metadata": {},
          "execution_count": 145
        }
      ]
    },
    {
      "cell_type": "code",
      "source": [
        "submission.to_csv(\"my_submission.csv\", sep=',', index='Id')"
      ],
      "metadata": {
        "id": "Z91LEg5sLoae"
      },
      "execution_count": 146,
      "outputs": []
    },
    {
      "cell_type": "code",
      "source": [
        "!kaggle competitions submit -c mds-ufu-dl-test -f my_submission.csv -m \"first try\""
      ],
      "metadata": {
        "colab": {
          "base_uri": "https://localhost:8080/"
        },
        "id": "9YDxUi4IL8z-",
        "outputId": "2b2a6f10-b5e7-4887-c5c2-a2a856763476"
      },
      "execution_count": 147,
      "outputs": [
        {
          "output_type": "stream",
          "name": "stdout",
          "text": [
            "Warning: Your Kaggle API key is readable by other users on this system! To fix this, you can run 'chmod 600 /root/.kaggle/kaggle.json'\n",
            "100% 67.3k/67.3k [00:03<00:00, 17.5kB/s]\n",
            "Successfully submitted to [MDS-UFU-DL-TEST] Построение классификатора"
          ]
        }
      ]
    },
    {
      "cell_type": "code",
      "source": [],
      "metadata": {
        "id": "k4USHkjXMM2n"
      },
      "execution_count": null,
      "outputs": []
    }
  ]
}